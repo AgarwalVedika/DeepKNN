{
 "cells": [
  {
   "cell_type": "code",
   "execution_count": 1,
   "metadata": {
    "colab": {
     "base_uri": "https://localhost:8080/",
     "height": 35
    },
    "colab_type": "code",
    "id": "vIvtnOm0v59_",
    "outputId": "931e331a-92dc-46c7-d509-0bb367c5265a"
   },
   "outputs": [
    {
     "name": "stderr",
     "output_type": "stream",
     "text": [
      "Using TensorFlow backend.\n"
     ]
    }
   ],
   "source": [
    "import time \n",
    "import keras\n",
    "import numpy as np \n",
    "\n",
    "import json \n",
    "import time \n",
    "import pickle \n",
    "import sys \n",
    "import csv \n",
    "import os \n",
    "import os.path as osp \n",
    "import shutil \n",
    "\n",
    "import pandas as pd\n",
    "\n",
    "from IPython.display import display, HTML\n",
    " \n",
    "# for auto-reloading external modules \n",
    "# see http://stackoverflow.com/questions/1907993/autoreload-of-modules-in-ipython \n",
    "%load_ext autoreload\n",
    "%autoreload 2"
   ]
  },
  {
   "cell_type": "code",
   "execution_count": 2,
   "metadata": {
    "colab": {
     "base_uri": "https://localhost:8080/",
     "height": 127
    },
    "colab_type": "code",
    "id": "eF9VFZeKv5-F",
    "outputId": "ce6e24ab-dc0d-42cf-a12b-6ac56db53e34"
   },
   "outputs": [
    {
     "name": "stdout",
     "output_type": "stream",
     "text": [
      "x_train.shape = (60000, 28, 28, 1),  y_train.shape = (60000, 10)\n",
      "x_cali.shape = (750, 28, 28, 1),  y_cali.shape = (750, 10)\n",
      "x_test.shape = (9250, 28, 28, 1),  y_test.shape = (9250, 10)\n"
     ]
    }
   ],
   "source": [
    "from keras.datasets import mnist\n",
    "from keras.models import Sequential\n",
    "from keras.layers import Dense, Dropout, Flatten, Conv2D, MaxPooling2D\n",
    "from keras.layers.normalization import BatchNormalization\n",
    "from keras.utils import np_utils\n",
    "from random import randint\n",
    "\n",
    "from keras.wrappers.scikit_learn import KerasClassifier\n",
    "from sklearn.model_selection import ParameterGrid\n",
    "from sklearn.datasets import make_classification\n",
    "\n",
    "# Set random seed\n",
    "np.random.seed(0)\n",
    "\n",
    "(x_train, y_train), (x_test, y_test) = mnist.load_data()\n",
    "\n",
    "# print('x_train.shape = {},  y_train.shape = {}'.format(x_train.shape, y_train.shape))\n",
    "# print('x_test.shape = {},  y_test.shape = {}'.format(x_test.shape, y_test.shape))\n",
    "\n",
    "x_train_plt = x_train\n",
    "y_train_labels=y_train\n",
    "\n",
    "im_size = 784 # 28 x 28\n",
    "# building the input vector from the 28x28 pixels\n",
    "x_train = x_train.reshape(x_train.shape[0], 28, 28,1)\n",
    "x_test = x_test.reshape(x_test.shape[0], 28, 28,1)\n",
    "x_train = x_train.astype('float32')\n",
    "x_test = x_test.astype('float32')\n",
    "\n",
    "# normalizing the data to help with the training\n",
    "x_train /= 255\n",
    "x_test /= 255\n",
    "\n",
    "# Convert class vectors to binary class matrices with one-hot encoding\n",
    "num_classes = 10\n",
    "y_train = keras.utils.to_categorical(y_train, num_classes)\n",
    "y_test = keras.utils.to_categorical(y_test, num_classes)\n",
    "\n",
    "\n",
    "#SETTING ASIDE CALIBRATION DATA, TRAIN AND TEST\n",
    "#a = np.random.shuffle(dataset)\n",
    "x_cali = x_test[9250:10000]\n",
    "y_cali = y_test[9250:10000]\n",
    "x_test = x_test[0:9250]\n",
    "y_test = y_test[0:9250]\n",
    "\n",
    "print('x_train.shape = {},  y_train.shape = {}'.format(x_train.shape, y_train.shape))\n",
    "print('x_cali.shape = {},  y_cali.shape = {}'.format(x_cali.shape, y_cali.shape))\n",
    "print('x_test.shape = {},  y_test.shape = {}'.format(x_test.shape, y_test.shape))\n"
   ]
  },
  {
   "cell_type": "code",
   "execution_count": 3,
   "metadata": {
    "colab": {},
    "colab_type": "code",
    "id": "jbchjXYHv5-J"
   },
   "outputs": [],
   "source": [
    "from keras.layers import Activation, Flatten\n",
    "from keras.layers import Convolution2D\n",
    "from keras.layers import Dense\n",
    "from keras.layers import Dropout\n",
    "from keras.layers import MaxPooling2D\n",
    "from keras.models import Sequential\n",
    "from keras import optimizers\n",
    "\n",
    "CUSTOM_OUTPUT_CATEGORIES = 10\n",
    "IMAGE_RESCALE_SIZE = 28\n",
    "\n",
    "\n",
    "BATCH_SIZE = 128\n",
    "\n",
    "def DeepNet():\n",
    "    # uses theano ordering. Note that we leave the image size as None to allow multiple image sizes\n",
    "    model = Sequential()\n",
    "    model.add(Conv2D(64, kernel_size=(8, 8), strides = (2,2), padding = 'same', activation='relu', input_shape=x_train.shape[1:]))\n",
    "    model.add(Conv2D(128, kernel_size=(6, 6),  strides = (2,2), padding = 'valid', activation='relu'))\n",
    "    model.add(Conv2D(128, kernel_size=(5, 5),  strides = (1,1), padding = 'valid',  activation='relu'))\n",
    "    model.add(Flatten())\n",
    "    model.add(Dense(num_classes, activation='softmax'))\n",
    "    adam = optimizers.Adam(lr = 0.001)\n",
    "    model.compile(loss=keras.losses.categorical_crossentropy,\n",
    "                  optimizer= adam,\n",
    "                  metrics=['accuracy'])\n",
    "    CUSTOM_TENSORBOARD.set_model(model)\n",
    "    return model\n",
    "  "
   ]
  },
  {
   "cell_type": "code",
   "execution_count": 4,
   "metadata": {
    "colab": {
     "base_uri": "https://localhost:8080/",
     "height": 384
    },
    "colab_type": "code",
    "id": "GtN31F3Av5-M",
    "outputId": "56a62cf4-6998-4f68-961a-abe7e02e26b1"
   },
   "outputs": [],
   "source": [
    "# model = DeepNet()\n",
    "# model_history = model.fit(x_train, y_train, epochs=10, batch_size=128)\n",
    "# model.save('/BS/vedika2/nobackup/deepKNN_model.h5')  # creates a HDF5 file \n",
    "\n",
    "#for_future_reference- just load this\n",
    "from keras.models import load_model\n",
    "keras.backend.set_learning_phase(False)\n",
    "# returns a compiled model\n",
    "model = load_model('deepKNN_model.h5')"
   ]
  },
  {
   "cell_type": "markdown",
   "metadata": {
    "colab_type": "text",
    "id": "mvzHu5yw0Dpp"
   },
   "source": []
  },
  {
   "cell_type": "code",
   "execution_count": 5,
   "metadata": {
    "colab": {
     "base_uri": "https://localhost:8080/",
     "height": 54
    },
    "colab_type": "code",
    "id": "uGGEkMuZv5-P",
    "outputId": "c0520344-4667-4da7-b2f9-bce2be2d638e"
   },
   "outputs": [
    {
     "name": "stdout",
     "output_type": "stream",
     "text": [
      "9250/9250 [==============================] - 1s 92us/step\n"
     ]
    },
    {
     "data": {
      "text/plain": [
       "[0.0425313720213425, 0.9895135135135135]"
      ]
     },
     "execution_count": 5,
     "metadata": {},
     "output_type": "execute_result"
    }
   ],
   "source": [
    "import random\n",
    "np.random.seed(1234 )\n",
    "model.evaluate(x_test,y_test, verbose=1)\n"
   ]
  },
  {
   "cell_type": "code",
   "execution_count": 6,
   "metadata": {
    "colab": {},
    "colab_type": "code",
    "id": "KzUPk-KAU2qx"
   },
   "outputs": [],
   "source": [
    "from keras import backend as K\n",
    "def reshaped_layer(model, x):\n",
    "    #function to get the layer wise output representation of the model for data x\n",
    "    layer_output = []\n",
    "    for i in range(3):\n",
    "        layer = model.layers[i]\n",
    "        print(layer)\n",
    "        l_op = K.function([model.layers[0].input],\n",
    "                                      [layer.output])([x])[0]\n",
    "        layer_output.append(l_op)\n",
    "    layer_output.append(K.function([model.layers[0].input],\n",
    "                                      [model.layers[4].output])([x])[0])\n",
    "    print(model.layers[4])\n",
    "    reshaped_output_layer = []\n",
    "    for output in layer_output[0:3]:\n",
    "        reshaped_output_layer.append(output.reshape(output.shape[0], output.shape[1]*output.shape[2]*output.shape[3]))\n",
    "        \n",
    "    for layer in layer_output[3:]:\n",
    "        reshaped_output_layer.append(layer)\n",
    "    \n",
    "    for layer in reshaped_output_layer:\n",
    "        assert layer.dtype == np.float32\n",
    "        #print('Normalizing the dataset')\n",
    "        layer /= np.linalg.norm(layer, axis=1).reshape(-1, 1)\n",
    "        #print('Done')        \n",
    "    return(reshaped_output_layer)"
   ]
  },
  {
   "cell_type": "code",
   "execution_count": 7,
   "metadata": {},
   "outputs": [],
   "source": [
    "from __future__ import print_function\n",
    "import numpy as np\n",
    "import falconn\n",
    "import timeit\n",
    "import math\n",
    "\n",
    "\n",
    "def keys(reshaped_output_layer,reshaped_output_layer_test, k_max, y_train):\n",
    "    query_onject_list = []\n",
    "    #keys2 = []\n",
    "    closest_labels_2 = []\n",
    "    for i in range(4):\n",
    "        # we build only 50 tables, increasing this quantity will improve the query time\n",
    "        # at a cost of slower preprocessing and larger memory footprint, feel free to\n",
    "        # play with this number\n",
    "        number_of_tables = 50\n",
    "        dataset = reshaped_output_layer[i]\n",
    "        center = np.mean(dataset, axis=0)\n",
    "        dataset -= center\n",
    "        params_cp = falconn.LSHConstructionParameters()\n",
    "        params_cp.dimension = len(dataset[0])\n",
    "        params_cp.lsh_family = falconn.LSHFamily.CrossPolytope\n",
    "        params_cp.distance_function = falconn.DistanceFunction.EuclideanSquared\n",
    "        #params_cp.distance_function = falconn.DistanceFunction.NegativeInnerProduct\n",
    "        params_cp.l = number_of_tables\n",
    "        # we set one rotation, since the data is dense enough,\n",
    "        # for sparse data set it to 2\n",
    "        params_cp.num_rotations = 2\n",
    "        params_cp.seed = 1234\n",
    "        # we want to use all the available threads to set up\n",
    "        params_cp.num_setup_threads = 0\n",
    "        params_cp.storage_hash_table = falconn.StorageHashTable.BitPackedFlatHashTable\n",
    "        # we build 18-bit hashes so that each table has\n",
    "        # 2^18 bins; this is a good choise since 2^18 is of the same\n",
    "        # order of magnitude as the number of data points\n",
    "        falconn.compute_number_of_hash_functions(18, params_cp)\n",
    "        # print('Done')\n",
    "        print('Constructing the LSH table')\n",
    "        t1 = timeit.default_timer()\n",
    "        table = falconn.LSHIndex(params_cp)\n",
    "        table.setup(dataset)\n",
    "        t2 = timeit.default_timer()\n",
    "        # print('Done')\n",
    "        print('Construction time: {}'.format(t2 - t1))\n",
    "        query_object = table.construct_query_object()\n",
    "        queries = reshaped_output_layer_test[i]\n",
    "        queries -= center\n",
    "        #keys = []   #len(keys)=100 equal to x_test size\n",
    "        closest_labels = []\n",
    "        for (j, query) in enumerate(queries):\n",
    "            #print(i)\n",
    "            a = query_object.find_k_nearest_neighbors(query, k_max)\n",
    "            y_label = y_train[a]\n",
    "            y_label_2 = []\n",
    "            for i in range(y_label.shape[0]):\n",
    "                y_label_2.append(argmax(y_label[i]))\n",
    "            #keys.append(a)\n",
    "            closest_labels.append(y_label_2)\n",
    "        closest_labels_2.append(closest_labels)\n",
    "        #keys2.append(keys)\n",
    "    return(closest_labels_2)"
   ]
  },
  {
   "cell_type": "code",
   "execution_count": 8,
   "metadata": {},
   "outputs": [],
   "source": [
    "def changing_transpose(y_test,close_l_p):\n",
    "    a = []\n",
    "    for z in range(len(y_test)): \n",
    "        b = []\n",
    "        for i in range(4):\n",
    "            #print(i)\n",
    "            b.append(close_l_p[i][z])\n",
    "        a.append(b)\n",
    "    return(a)"
   ]
  },
  {
   "cell_type": "code",
   "execution_count": 9,
   "metadata": {},
   "outputs": [],
   "source": [
    "def true_y_labels(y_train):\n",
    "    y = []\n",
    "    for i in range(len(y_train)):\n",
    "        y.append(argmax(y_train[i]))\n",
    "    return(y)"
   ]
  },
  {
   "cell_type": "code",
   "execution_count": 17,
   "metadata": {},
   "outputs": [],
   "source": [
    "def getting_A(cali_closest_labels_found, cali_y_labels, k_max):\n",
    "    alpha_x_y = []\n",
    "    counter_all = 0\n",
    "    for i in range(len(cali_y_labels)):\n",
    "        a = cali_closest_labels_found[i]\n",
    "        for j in range(4):\n",
    "            while len(a[j]) < k_max: \n",
    "                #print('no neighbours found, appending class 99')\n",
    "                a[j].append(99)  \n",
    "                counter_all += 1            \n",
    "        a = np.array(a)\n",
    "        b = a.reshape(a.shape[0]*a.shape[1])\n",
    "        label = cali_y_labels[i]\n",
    "        c = np.full((a.shape[0]*a.shape[1]), label)\n",
    "        d = (b != c).sum()          #non_conformity\n",
    "        alpha_x_y.append(d)\n",
    "    return alpha_x_y, counter_all"
   ]
  },
  {
   "cell_type": "code",
   "execution_count": 18,
   "metadata": {},
   "outputs": [],
   "source": [
    "import numpy as np\n",
    "from numpy import argmax\n",
    "def metrics(closest_labels_found, A, k_max):  \n",
    "    alpha_z_j = []\n",
    "    alpha_z_j_2 = []\n",
    "    p_j_z = []\n",
    "    p_j_z_2 = []\n",
    "    prediction = []\n",
    "    credibility = []\n",
    "    confidence = []\n",
    "    counter_all = 0\n",
    "    for z in range(len(closest_labels_found)):\n",
    "        #print(z)\n",
    "        a = closest_labels_found[z]\n",
    "        for j in range(4):\n",
    "            while len(a[j]) < k_max: \n",
    "                #print('no neighbours found, appending class 99')\n",
    "                a[j].append(99)  \n",
    "                counter_all += 1            \n",
    "        a = np.array(closest_labels_found[z])       \n",
    "        b = a.reshape(a.shape[0]*a.shape[1])\n",
    "        #print(b)\n",
    "        alpha_z_j = []\n",
    "        p_j_z = []\n",
    "        for label in range(10):     \n",
    "            c = np.full((a.shape[0]*a.shape[1]), label)\n",
    "            d = (b != c).sum()          #non_conformity\n",
    "            alpha_z_j.append(d)         \n",
    "\n",
    "            #number of values in A which are greater than alpha_z_j- whichh is d here\n",
    "            e =  np.full((len(A)), d)    \n",
    "            f = (A >= d).sum()\n",
    "            g = f*(1/len(A))\n",
    "            p_j_z.append(g)\n",
    "\n",
    "        prediction.append(argmax(p_j_z))\n",
    "        credibility.append(max(p_j_z))\n",
    "        \n",
    "        h = p_j_z\n",
    "        del h[argmax(h)]   \n",
    "        confidence.append(1 - max(h)) \n",
    "\n",
    "\n",
    "        alpha_z_j_2.append(alpha_z_j)   ###for other find this\n",
    "        p_j_z_2.append(p_j_z)\n",
    " \n",
    "    return(prediction, credibility, confidence, counter_all)"
   ]
  },
  {
   "cell_type": "code",
   "execution_count": 12,
   "metadata": {},
   "outputs": [
    {
     "name": "stdout",
     "output_type": "stream",
     "text": [
      "<keras.layers.convolutional.Conv2D object at 0x7f44301fe198>\n",
      "<keras.layers.convolutional.Conv2D object at 0x7f44301fe6d8>\n",
      "<keras.layers.convolutional.Conv2D object at 0x7f442c6aea90>\n",
      "<keras.layers.core.Dense object at 0x7f442c6d4748>\n"
     ]
    }
   ],
   "source": [
    "reshaped_output_layer = reshaped_layer(model, x_train)"
   ]
  },
  {
   "cell_type": "code",
   "execution_count": 13,
   "metadata": {},
   "outputs": [
    {
     "name": "stdout",
     "output_type": "stream",
     "text": [
      "<keras.layers.convolutional.Conv2D object at 0x7f44301fe198>\n",
      "<keras.layers.convolutional.Conv2D object at 0x7f44301fe6d8>\n",
      "<keras.layers.convolutional.Conv2D object at 0x7f442c6aea90>\n",
      "<keras.layers.core.Dense object at 0x7f442c6d4748>\n",
      "Constructing the LSH table\n",
      "Construction time: 249.88089350610971\n",
      "Constructing the LSH table\n",
      "Construction time: 56.43364958278835\n",
      "Constructing the LSH table\n",
      "Construction time: 3.0516576189547777\n",
      "Constructing the LSH table\n",
      "Construction time: 1.320563504472375\n",
      "Construction time: 322.99449051730335\n"
     ]
    }
   ],
   "source": [
    "#CALI_SET_the_complete_cycle_CALI_SET\n",
    "t3 = timeit.default_timer()\n",
    "\n",
    "reshaped_output_layer_cali = reshaped_layer(model, x_cali)\n",
    "cali_close_l_p = keys(reshaped_output_layer, reshaped_output_layer_cali,75, y_train)\n",
    "cali_closest_labels_found = changing_transpose(y_cali, cali_close_l_p)\n",
    "cali_y_labels = true_y_labels(y_cali)\n",
    "\n",
    "import pandas as pd \n",
    "pd.DataFrame(cali_closest_labels_found).to_csv(\"cali_output_file_closest_labels.csv\")\n",
    "pd.DataFrame(cali_y_labels).to_csv(\"cali_output_file_y_labels.csv\")\n",
    "\n",
    "t4 = timeit.default_timer()\n",
    "# print('Done')\n",
    "print('Construction time: {}'.format(t4 - t3))"
   ]
  },
  {
   "cell_type": "code",
   "execution_count": 19,
   "metadata": {},
   "outputs": [],
   "source": [
    "#getting_A for cali set\n",
    "A, counter_cali = getting_A(cali_closest_labels_found, cali_y_labels, 75)"
   ]
  },
  {
   "cell_type": "code",
   "execution_count": 15,
   "metadata": {},
   "outputs": [
    {
     "name": "stdout",
     "output_type": "stream",
     "text": [
      "<keras.layers.convolutional.Conv2D object at 0x7f44301fe198>\n",
      "<keras.layers.convolutional.Conv2D object at 0x7f44301fe6d8>\n",
      "<keras.layers.convolutional.Conv2D object at 0x7f442c6aea90>\n",
      "<keras.layers.core.Dense object at 0x7f442c6d4748>\n",
      "Constructing the LSH table\n",
      "Construction time: 248.76021280139685\n",
      "Constructing the LSH table\n",
      "Construction time: 57.71041730232537\n",
      "Constructing the LSH table\n",
      "Construction time: 3.2220265809446573\n",
      "Constructing the LSH table\n",
      "Construction time: 1.4059606567025185\n",
      "Construction time: 409.71101190522313\n"
     ]
    }
   ],
   "source": [
    "t5 = timeit.default_timer()\n",
    "\n",
    "#the_complete_cycle_TEST SET\n",
    "reshaped_output_layer_test = reshaped_layer(model, x_test)\n",
    "close_l_p = keys(reshaped_output_layer, reshaped_output_layer_test, 75, y_train)\n",
    "closest_labels_found = changing_transpose(y_test, close_l_p)\n",
    "y_labels = true_y_labels(y_test)\n",
    "\n",
    "import pandas as pd \n",
    "pd.DataFrame(closest_labels_found).to_csv(\"test_output_file_closest_labels.csv\")\n",
    "pd.DataFrame(y_labels).to_csv(\"test_output_file_y_labels.csv\")\n",
    "\n",
    "t6 = timeit.default_timer()\n",
    "# print('Done')\n",
    "print('Construction time: {}'.format(t6 - t5))"
   ]
  },
  {
   "cell_type": "code",
   "execution_count": 20,
   "metadata": {
    "colab": {},
    "colab_type": "code",
    "id": "q1nlGm1VU2rH"
   },
   "outputs": [],
   "source": [
    "v,k,c, counter_test = metrics(closest_labels_found, A, 75)\n"
   ]
  },
  {
   "cell_type": "code",
   "execution_count": 21,
   "metadata": {},
   "outputs": [],
   "source": [
    "p_acc =  np.mean(np.equal(v, y_labels))"
   ]
  },
  {
   "cell_type": "code",
   "execution_count": 22,
   "metadata": {},
   "outputs": [
    {
     "data": {
      "text/plain": [
       "0.9889729729729729"
      ]
     },
     "execution_count": 22,
     "metadata": {},
     "output_type": "execute_result"
    }
   ],
   "source": [
    "p_acc"
   ]
  },
  {
   "cell_type": "code",
   "execution_count": null,
   "metadata": {},
   "outputs": [],
   "source": [
    "###Breaking the model by varying A, as prediction depends on comparing the closest labels \n",
    "# A- non confirmal scores wrt true labels\n",
    "# so the way it works is, for every label in 1 to 10- for a z input- i get a non coformal score for the z's\n",
    "# closest labels predicted\n",
    "# A = [ 1 0 5 3]\n",
    "# cl_l_pred = [[7,7,7], [7,7,7], [7,7,7], [7,7,7]]\n",
    "#           0   1  2  3  4  5  6  7  8  9\n",
    "#alpha_z_j= 12 12 12 12 12 12 12 0 12  12\n",
    "# pred_z_j =0  0  0  0  0  0  0  4  0  0\n",
    "# pred_z_j = for every j, we compare the number of lbels in A which were lesser than each apha_z_j\n",
    "# and then argmax of pre_z_j guves the label being predicted which is 7\n",
    "\n",
    "# so here we see- if I enforce the A to contain all 12- the model will break-  basocally the highest \n",
    "# value in alpha_z_j \n"
   ]
  },
  {
   "cell_type": "code",
   "execution_count": 95,
   "metadata": {},
   "outputs": [],
   "source": [
    "def breaking_model_varying_A(A, value,closest_labels_found,k_max, y_labels):\n",
    "    A_adv = [value] * len(A)\n",
    "    v_A_1,k_A_1,c_A_1, counter_test_A_1 = metrics(closest_labels_found, A_adv, k_max)\n",
    "    p_acc_A_1 =  np.mean(np.equal(v_A_1, y_labels))\n",
    "    print(value)\n",
    "    print(p_acc_A_1)\n",
    "    return(p_acc_A_1, v_A_1, k_A_1,c_A_1)"
   ]
  },
  {
   "cell_type": "code",
   "execution_count": 96,
   "metadata": {},
   "outputs": [
    {
     "name": "stdout",
     "output_type": "stream",
     "text": [
      "292\n",
      "0.7504864864864865\n"
     ]
    }
   ],
   "source": [
    "p_1 = breaking_model_varying_A(A, np.max(A), closest_labels_found, 75, y_labels)"
   ]
  },
  {
   "cell_type": "code",
   "execution_count": 97,
   "metadata": {},
   "outputs": [
    {
     "name": "stdout",
     "output_type": "stream",
     "text": [
      "0\n",
      "0.1801081081081081\n"
     ]
    }
   ],
   "source": [
    "p_2, v_2, k_2, c_2 = breaking_model_varying_A(A, np.min(A), closest_labels_found, 75, y_labels)  ###forces all 0 into A, \n",
    "# value is going to be less than any alpha_z_j"
   ]
  },
  {
   "cell_type": "code",
   "execution_count": 98,
   "metadata": {},
   "outputs": [
    {
     "name": "stdout",
     "output_type": "stream",
     "text": [
      "17.298666666666666\n",
      "0.5848648648648649\n"
     ]
    }
   ],
   "source": [
    "p_3,v_3, c_3, k_3 = breaking_model_varying_A(A, np.mean(A), closest_labels_found, 75, y_labels)"
   ]
  },
  {
   "cell_type": "code",
   "execution_count": 23,
   "metadata": {
    "colab": {
     "base_uri": "https://localhost:8080/",
     "height": 366
    },
    "colab_type": "code",
    "id": "tPvHmUUNstfS",
    "outputId": "e7012447-b7c0-4f5f-febd-ccf24cfb14ce"
   },
   "outputs": [],
   "source": [
    "from sklearn.model_selection import train_test_split\n",
    "import pandas as pd\n",
    "\n",
    "import numpy as np\n",
    "import keras\n",
    "from keras import backend\n",
    "from keras.models import load_model\n",
    "import tensorflow as tf\n",
    "import random\n",
    "\n",
    "import keras\n",
    "from keras.datasets import mnist\n",
    "from keras.models import Sequential\n",
    "from keras.layers import Dense, Dropout, Flatten\n",
    "from keras.layers import Conv2D, MaxPooling2D\n",
    "from keras import backend as K\n",
    "\n",
    "from cleverhans.attacks import FastGradientMethod\n",
    "from cleverhans.attacks import BasicIterativeMethod\n",
    "from cleverhans.utils_keras import KerasModelWrapper\n",
    "from cleverhans.attacks import SaliencyMapMethod\n",
    "from cleverhans.attacks import CarliniWagnerL2\n",
    "from cleverhans.attacks import SpatialTransformationMethod"
   ]
  },
  {
   "cell_type": "code",
   "execution_count": 24,
   "metadata": {
    "colab": {
     "base_uri": "https://localhost:8080/",
     "height": 50
    },
    "colab_type": "code",
    "id": "Cq5_u549xyq7",
    "outputId": "0515ce21-02a5-4f24-f645-d525f4e85a55"
   },
   "outputs": [
    {
     "name": "stderr",
     "output_type": "stream",
     "text": [
      "[INFO 2019-02-02 15:56:28,936 cleverhans] Constructing new graph for attack FastGradientMethod\n"
     ]
    },
    {
     "name": "stdout",
     "output_type": "stream",
     "text": [
      "The adversarial accuracy for FGSM is: 0.011027027027027026\n"
     ]
    }
   ],
   "source": [
    "# Set TF random seed to improve reproducibility\n",
    "tf.set_random_seed(1234)\n",
    "# Retrieve the tensorflow session\n",
    "sess =  backend.get_session()\n",
    "wrap = KerasModelWrapper(model)\n",
    "fgsm = FastGradientMethod(wrap, sess=sess)\n",
    "fgsm_params = {'eps': 0.25,\n",
    "               'clip_min': 0.0 ,\n",
    "               'clip_max': 1.0 }\n",
    "adv_x = fgsm.generate_np(x_test, **fgsm_params)\n",
    "adv_pred = np.argmax(model.predict(adv_x), axis = 1)\n",
    "adv_acc =  np.mean(np.equal(adv_pred, y_test[:,0]))\n",
    "print(\"The adversarial accuracy for FGSM is: {}\".format(adv_acc))"
   ]
  },
  {
   "cell_type": "code",
   "execution_count": 111,
   "metadata": {},
   "outputs": [],
   "source": [
    "import matplotlib.pyplot as plt\n",
    "def plot(images,advs, name):\n",
    "  n=images.shape[0]\n",
    "  fig = plt.figure()\n",
    "  for i in range(n):\n",
    "    im=(np.reshape(images[i], (28, 28)) * 255).astype(np.uint8)\n",
    "    adv=(np.reshape(advs[i], (28, 28)) * 255).astype(np.uint8)\n",
    "    plt.subplot(2,n,i+1)\n",
    "    plt.imshow(im, cmap='gray')\n",
    "    plt.axis('off') \n",
    "    \n",
    "    plt.subplot(2,n,(i+1+n))\n",
    "    plt.imshow(adv, cmap='gray')\n",
    "    plt.axis('off') \n",
    "    \n",
    "    \n",
    "  plt.show()\n",
    "  fig.savefig(name + \".png\", bbox_inches='tight')"
   ]
  },
  {
   "cell_type": "code",
   "execution_count": 115,
   "metadata": {},
   "outputs": [
    {
     "data": {
      "image/png": "[encoded data removed]",
      "text/plain": [
       "<Figure size 432x288 with 8 Axes>"
      ]
     },
     "metadata": {
      "needs_background": "light"
     },
     "output_type": "display_data"
    }
   ],
   "source": [
    "plot(x_test[:4],adv_x[:4], 'fgsm')"
   ]
  },
  {
   "cell_type": "code",
   "execution_count": 25,
   "metadata": {},
   "outputs": [
    {
     "name": "stdout",
     "output_type": "stream",
     "text": [
      "<keras.layers.convolutional.Conv2D object at 0x7f44301fe198>\n",
      "<keras.layers.convolutional.Conv2D object at 0x7f44301fe6d8>\n",
      "<keras.layers.convolutional.Conv2D object at 0x7f442c6aea90>\n",
      "<keras.layers.core.Dense object at 0x7f442c6d4748>\n",
      "Constructing the LSH table\n",
      "Construction time: 252.7428024765104\n",
      "Constructing the LSH table\n",
      "Construction time: 56.17226270958781\n",
      "Constructing the LSH table\n",
      "Construction time: 3.0669281017035246\n",
      "Constructing the LSH table\n",
      "Construction time: 1.318841913715005\n",
      "Construction time: 390.0276181064546\n"
     ]
    }
   ],
   "source": [
    "t9 = timeit.default_timer()\n",
    "\n",
    "#the_complete_cycle_TEST SET\n",
    "reshaped_output_layer_adv = reshaped_layer(model, adv_x)\n",
    "adv_close_l_p = keys(reshaped_output_layer, reshaped_output_layer_adv, 75, y_train)\n",
    "adv_closest_labels_found = changing_transpose(y_test, adv_close_l_p)\n",
    "y_labels = true_y_labels(y_test)\n",
    "\n",
    "import pandas as pd \n",
    "pd.DataFrame(closest_labels_found).to_csv(\"adv_output_file_closest_labels.csv\")\n",
    "pd.DataFrame(y_labels).to_csv(\"adv_output_file_y_labels.csv\")\n",
    "\n",
    "t10 = timeit.default_timer()\n",
    "# print('Done')\n",
    "print('Construction time: {}'.format(t10 - t9))"
   ]
  },
  {
   "cell_type": "code",
   "execution_count": 26,
   "metadata": {
    "colab": {},
    "colab_type": "code",
    "id": "JIGpNrpE-cOd"
   },
   "outputs": [],
   "source": [
    "v_adv,k_adv,c_adv, counter_adv = metrics(adv_closest_labels_found, A, 75)"
   ]
  },
  {
   "cell_type": "code",
   "execution_count": 27,
   "metadata": {},
   "outputs": [],
   "source": [
    "p_acc_adv =  np.mean(np.equal(v_adv, y_labels))"
   ]
  },
  {
   "cell_type": "code",
   "execution_count": 28,
   "metadata": {},
   "outputs": [
    {
     "data": {
      "text/plain": [
       "0.11003711711711711"
      ]
     },
     "execution_count": 28,
     "metadata": {},
     "output_type": "execute_result"
    }
   ],
   "source": [
    "counter_adv/(75*4*9250)"
   ]
  },
  {
   "cell_type": "code",
   "execution_count": 29,
   "metadata": {},
   "outputs": [
    {
     "data": {
      "text/plain": [
       "0.3938378378378378"
      ]
     },
     "execution_count": 29,
     "metadata": {},
     "output_type": "execute_result"
    }
   ],
   "source": [
    "p_acc_adv"
   ]
  },
  {
   "cell_type": "code",
   "execution_count": 30,
   "metadata": {},
   "outputs": [
    {
     "name": "stderr",
     "output_type": "stream",
     "text": [
      "[INFO 2019-02-02 16:03:08,302 cleverhans] Constructing new graph for attack SpatialTransformationMethod\n"
     ]
    }
   ],
   "source": [
    "### Spatial Tranformation Method: Black Box attack\n",
    "# Set TF random seed to improve reproducibility\n",
    "tf.set_random_seed(1234)\n",
    "# Retrieve the tensorflow session\n",
    "sess =  backend.get_session()\n",
    "wrap = KerasModelWrapper(model)\n",
    "stm = SpatialTransformationMethod(wrap, sess=sess)\n",
    "adv_x_stm = stm.generate_np(x_test)\n",
    "adv_pred_stm = np.argmax(model.predict(adv_x_stm), axis = 1)\n",
    "adv_acc_stm =  np.mean(np.equal(adv_pred_stm, y_test[:,0]))\n"
   ]
  },
  {
   "cell_type": "code",
   "execution_count": 116,
   "metadata": {},
   "outputs": [
    {
     "data": {
      "image/png": "[encoded data removed]",
      "text/plain": [
       "<Figure size 432x288 with 8 Axes>"
      ]
     },
     "metadata": {
      "needs_background": "light"
     },
     "output_type": "display_data"
    }
   ],
   "source": [
    "plot(x_test[:4],adv_x_stm[:4], 'stm')"
   ]
  },
  {
   "cell_type": "code",
   "execution_count": 31,
   "metadata": {},
   "outputs": [
    {
     "name": "stdout",
     "output_type": "stream",
     "text": [
      "The adversarial accuracy for STM is: 0.01027027027027027\n"
     ]
    }
   ],
   "source": [
    "print(\"The adversarial accuracy for STM is: {}\".format(adv_acc_stm))"
   ]
  },
  {
   "cell_type": "code",
   "execution_count": 33,
   "metadata": {},
   "outputs": [
    {
     "name": "stdout",
     "output_type": "stream",
     "text": [
      "<keras.layers.convolutional.Conv2D object at 0x7f44301fe198>\n",
      "<keras.layers.convolutional.Conv2D object at 0x7f44301fe6d8>\n",
      "<keras.layers.convolutional.Conv2D object at 0x7f442c6aea90>\n",
      "<keras.layers.core.Dense object at 0x7f442c6d4748>\n",
      "Constructing the LSH table\n",
      "Construction time: 248.90838314034045\n",
      "Constructing the LSH table\n",
      "Construction time: 56.389617605134845\n",
      "Constructing the LSH table\n",
      "Construction time: 3.033067472279072\n",
      "Constructing the LSH table\n",
      "Construction time: 1.3126030769199133\n",
      "Construction time: 380.10503472201526\n"
     ]
    }
   ],
   "source": [
    "t11 = timeit.default_timer()\n",
    "\n",
    "#the_complete_cycle_TEST SET\n",
    "reshaped_output_layer_adv_stm = reshaped_layer(model, adv_x_stm)\n",
    "adv_close_l_p_stm = keys(reshaped_output_layer, reshaped_output_layer_adv_stm, 75, y_train)\n",
    "adv_closest_labels_found_stm = changing_transpose(y_test, adv_close_l_p_stm)\n",
    "y_labels = true_y_labels(y_test)\n",
    "\n",
    "import pandas as pd \n",
    "pd.DataFrame(closest_labels_found).to_csv(\"adv_stm_output_file_closest_labels.csv\")\n",
    "pd.DataFrame(y_labels).to_csv(\"adv_stm_output_file_y_labels.csv\")\n",
    "\n",
    "t12 = timeit.default_timer()\n",
    "# print('Done')\n",
    "print('Construction time: {}'.format(t12 - t11))"
   ]
  },
  {
   "cell_type": "code",
   "execution_count": 34,
   "metadata": {},
   "outputs": [],
   "source": [
    "v_adv_stm,k_adv_stm,c_adv_stm, counter_adv_stm = metrics(adv_closest_labels_found_stm, A, 75)"
   ]
  },
  {
   "cell_type": "code",
   "execution_count": 35,
   "metadata": {},
   "outputs": [],
   "source": [
    "p_acc_adv_stm =  np.mean(np.equal(v_adv_stm, y_labels))"
   ]
  },
  {
   "cell_type": "code",
   "execution_count": 36,
   "metadata": {},
   "outputs": [
    {
     "data": {
      "text/plain": [
       "0.0007567567567567568"
      ]
     },
     "execution_count": 36,
     "metadata": {},
     "output_type": "execute_result"
    }
   ],
   "source": [
    "p_acc_adv_stm"
   ]
  },
  {
   "cell_type": "code",
   "execution_count": 118,
   "metadata": {},
   "outputs": [
    {
     "name": "stderr",
     "output_type": "stream",
     "text": [
      "[INFO 2019-02-03 17:08:34,504 cleverhans] Constructing new graph for attack BasicIterativeMethod\n"
     ]
    },
    {
     "name": "stdout",
     "output_type": "stream",
     "text": [
      "The adversarial accuracy for BIM on DNN is: 0.008108108108108109\n"
     ]
    }
   ],
   "source": [
    "bim = BasicIterativeMethod(wrap, sess=sess)\n",
    "bim_params = {'eps_iter': 0.01,\n",
    "              'nb_iter': 100,\n",
    "              'clip_min': 0.,\n",
    "              'clip_max': 1.}\n",
    "adv_bim = bim.generate_np(x_test, **bim_params)\n",
    "adv_pred_bim = np.argmax(model.predict(adv_bim), axis = 1)\n",
    "adv_acc =  np.mean(np.equal(adv_pred_bim, np.argmax(y_test,axis=1)))\n",
    "# adv_acc_knn =  np.mean(np.equal(adv_pred_bim, predTest))\n",
    "print(\"The adversarial accuracy for BIM on DNN is: {}\".format(adv_acc))\n",
    "# print(\"The adversarial accuracy for BIM on DkNN is: {}\".format(adv_acc_knn))"
   ]
  },
  {
   "cell_type": "code",
   "execution_count": 130,
   "metadata": {},
   "outputs": [
    {
     "data": {
      "image/png": "[encoded data removed]",
      "text/plain": [
       "<Figure size 432x288 with 8 Axes>"
      ]
     },
     "metadata": {
      "needs_background": "light"
     },
     "output_type": "display_data"
    }
   ],
   "source": [
    "plot(x_test[:4],adv_bim[:4], 'bim')"
   ]
  },
  {
   "cell_type": "code",
   "execution_count": 125,
   "metadata": {},
   "outputs": [
    {
     "name": "stderr",
     "output_type": "stream",
     "text": [
      "[INFO 2019-02-03 17:50:14,711 cleverhans] Constructing new graph for attack BasicIterativeMethod\n"
     ]
    },
    {
     "name": "stdout",
     "output_type": "stream",
     "text": [
      "The adversarial accuracy for BIM on DNN is: 0.008108108108108109\n"
     ]
    }
   ],
   "source": [
    "# parse_params(layer=None, eps=0.3, eps_iter=0.05, nb_iter=10, ord=inf, clip_min=None,\n",
    "# clip_max=None, **kwargs)\n",
    "\n",
    "bim = BasicIterativeMethod(wrap, sess=sess)\n",
    "bim_params_2 = {'eps': 0.25,\n",
    "              'eps_iter': 0.01,\n",
    "              'nb_iter': 100 }\n",
    "adv_bim_2 = bim.generate_np(x_test, **bim_params_2)\n"
   ]
  },
  {
   "cell_type": "code",
   "execution_count": 127,
   "metadata": {},
   "outputs": [
    {
     "name": "stdout",
     "output_type": "stream",
     "text": [
      "The adversarial accuracy for BIM_2 on DNN is: 0.010486486486486486\n"
     ]
    }
   ],
   "source": [
    "adv_pred_bim_2 = np.argmax(model.predict(adv_bim_2), axis = 1)\n",
    "adv_acc_2 =  np.mean(np.equal(adv_pred_bim_2, np.argmax(y_test,axis=1)))\n",
    "# adv_acc_knn =  np.mean(np.equal(adv_pred_bim, predTest))\n",
    "print(\"The adversarial accuracy for BIM_2 on DNN is: {}\".format(adv_acc_2))\n",
    "# print(\"The adversarial accuracy for BIM2 on DkNN is: {}\".format(adv_acc_knn))"
   ]
  },
  {
   "cell_type": "code",
   "execution_count": 131,
   "metadata": {},
   "outputs": [
    {
     "data": {
      "image/png": "[encoded data removed]",
      "text/plain": [
       "<Figure size 432x288 with 8 Axes>"
      ]
     },
     "metadata": {
      "needs_background": "light"
     },
     "output_type": "display_data"
    }
   ],
   "source": [
    "plot(x_test[:4],adv_bim_2[:4], 'bim_2')"
   ]
  },
  {
   "cell_type": "code",
   "execution_count": 120,
   "metadata": {},
   "outputs": [
    {
     "name": "stdout",
     "output_type": "stream",
     "text": [
      "<keras.layers.convolutional.Conv2D object at 0x7f44301fe198>\n",
      "<keras.layers.convolutional.Conv2D object at 0x7f44301fe6d8>\n",
      "<keras.layers.convolutional.Conv2D object at 0x7f442c6aea90>\n",
      "<keras.layers.core.Dense object at 0x7f442c6d4748>\n",
      "Constructing the LSH table\n",
      "Construction time: 275.82230691611767\n",
      "Constructing the LSH table\n",
      "Construction time: 59.83594779111445\n",
      "Constructing the LSH table\n",
      "Construction time: 3.1716802194714546\n",
      "Constructing the LSH table\n",
      "Construction time: 1.3381790034472942\n",
      "Construction time: 419.7375308033079\n"
     ]
    }
   ],
   "source": [
    "t21 = timeit.default_timer()\n",
    "\n",
    "#the_complete_cycle_TEST SET\n",
    "reshaped_output_layer_adv_bim = reshaped_layer(model, adv_bim)\n",
    "adv_close_l_p_bim = keys(reshaped_output_layer, reshaped_output_layer_adv_bim, 75, y_train)\n",
    "adv_closest_labels_found_bim = changing_transpose(y_test, adv_close_l_p_bim)\n",
    "y_labels = true_y_labels(y_test)\n",
    "t22 = timeit.default_timer()\n",
    "# print('Done')\n",
    "print('Construction time: {}'.format(t22 - t21))"
   ]
  },
  {
   "cell_type": "code",
   "execution_count": 135,
   "metadata": {},
   "outputs": [
    {
     "data": {
      "text/plain": [
       "0.024972972972972973"
      ]
     },
     "execution_count": 135,
     "metadata": {},
     "output_type": "execute_result"
    }
   ],
   "source": [
    "v_adv_bim,k_adv_bim,c_adv_bim, counter_adv_bim = metrics(adv_closest_labels_found_bim, A, 75)\n",
    "p_acc_adv_bim =  np.mean(np.equal(v_adv_bim, y_labels))\n",
    "p_acc_adv_bim"
   ]
  },
  {
   "cell_type": "code",
   "execution_count": 136,
   "metadata": {},
   "outputs": [],
   "source": [
    "def short(model, adv_bim):\n",
    "    t21 = timeit.default_timer()\n",
    "    #the_complete_cycle_TEST SET\n",
    "    reshaped_output_layer_adv_bim = reshaped_layer(model, adv_bim)\n",
    "    adv_close_l_p_bim = keys(reshaped_output_layer, reshaped_output_layer_adv_bim, 75, y_train)\n",
    "    adv_closest_labels_found_bim = changing_transpose(y_test, adv_close_l_p_bim)\n",
    "    y_labels = true_y_labels(y_test)\n",
    "    t22 = timeit.default_timer()\n",
    "    # print('Done')\n",
    "    print('Construction time: {}'.format(t22 - t21))\n",
    "    v_adv_bim,k_adv_bim,c_adv_bim, counter_adv_bim = metrics(adv_closest_labels_found_bim, A, 75)\n",
    "    p_acc_adv_bim =  np.mean(np.equal(v_adv_bim, y_labels))\n",
    "    return(p_acc_adv_bim)\n",
    "    "
   ]
  },
  {
   "cell_type": "code",
   "execution_count": 137,
   "metadata": {},
   "outputs": [
    {
     "name": "stdout",
     "output_type": "stream",
     "text": [
      "<keras.layers.convolutional.Conv2D object at 0x7f44301fe198>\n",
      "<keras.layers.convolutional.Conv2D object at 0x7f44301fe6d8>\n",
      "<keras.layers.convolutional.Conv2D object at 0x7f442c6aea90>\n",
      "<keras.layers.core.Dense object at 0x7f442c6d4748>\n",
      "Constructing the LSH table\n",
      "Construction time: 277.9549850784242\n",
      "Constructing the LSH table\n",
      "Construction time: 60.558503780514\n",
      "Constructing the LSH table\n",
      "Construction time: 3.398089498281479\n",
      "Constructing the LSH table\n",
      "Construction time: 1.3560465723276138\n",
      "Construction time: 425.93725552782416\n"
     ]
    },
    {
     "data": {
      "text/plain": [
       "0.01935135135135135"
      ]
     },
     "execution_count": 137,
     "metadata": {},
     "output_type": "execute_result"
    }
   ],
   "source": [
    "short(model,adv_bim_2 )"
   ]
  },
  {
   "cell_type": "code",
   "execution_count": 42,
   "metadata": {},
   "outputs": [
    {
     "name": "stderr",
     "output_type": "stream",
     "text": [
      "[INFO 2019-02-02 16:33:23,502 cleverhans] Constructing new graph for attack SaliencyMapMethod\n"
     ]
    }
   ],
   "source": [
    "tf.set_random_seed(1234)\n",
    "# Retrieve the tensorflow session\n",
    "sess =  backend.get_session()\n",
    "wrap = KerasModelWrapper(model)\n",
    "from cleverhans.utils import other_classes\n",
    "def saliency_map_method(sess, model, X, Y, theta, gamma, clip_min=None, clip_max=None):\n",
    "    \n",
    "    nb_classes = Y.shape[1]\n",
    "    X_adv = np.zeros_like(X)\n",
    "    # Instantiate a SaliencyMapMethod attack object\n",
    "    jsma = SaliencyMapMethod(model, back='tf', sess=sess)\n",
    "    jsma_params = {'theta': theta, 'gamma': gamma,\n",
    "                   'clip_min': clip_min, 'clip_max': clip_max,\n",
    "                   'y_target': None}\n",
    "    for i in range(X.shape[0]):\n",
    "        # Get the sample\n",
    "        sample = X[i:(i+1)]\n",
    "        # First, record the current class of the sample\n",
    "        current_class = int(np.argmax(Y[i]))\n",
    "        # Randomly choose a target class\n",
    "        target_class = np.random.choice(other_classes(nb_classes,\n",
    "                                                      current_class))\n",
    "        # This call runs the Jacobian-based saliency map approach\n",
    "        one_hot_target = np.zeros((1, nb_classes), dtype=np.float32)\n",
    "        one_hot_target[0, target_class] = 1\n",
    "        jsma_params['y_target'] = one_hot_target\n",
    "        X_adv[i] = jsma.generate_np(sample, **jsma_params)\n",
    "\n",
    "    return X_adv\n",
    "\n",
    "adv_jsma = saliency_map_method(sess, wrap, x_test, y_test, theta=1, gamma=0.1, clip_min=0., clip_max=1.)"
   ]
  },
  {
   "cell_type": "code",
   "execution_count": 122,
   "metadata": {},
   "outputs": [
    {
     "data": {
      "image/png": "[encoded data removed]",
      "text/plain": [
       "<Figure size 432x288 with 8 Axes>"
      ]
     },
     "metadata": {
      "needs_background": "light"
     },
     "output_type": "display_data"
    }
   ],
   "source": [
    "plot(x_test[:4],adv_jsma[:4], 'jsma')"
   ]
  },
  {
   "cell_type": "code",
   "execution_count": 55,
   "metadata": {},
   "outputs": [
    {
     "name": "stdout",
     "output_type": "stream",
     "text": [
      "The adversarial accuracy for JSMA on DNN is: 0.08421621621621622\n"
     ]
    }
   ],
   "source": [
    "adv_pred_jsma = np.argmax(model.predict(adv_jsma), axis = 1)\n",
    "adv_acc =  np.mean(np.equal(adv_pred_jsma, np.argmax(y_test,axis=1)))\n",
    "# adv_acc_knn =  np.mean(np.equal(adv_pred_jsma, predTest))\n",
    "print(\"The adversarial accuracy for JSMA on DNN is: {}\".format(adv_acc))\n",
    "# print(\"The adversarial accuracy for STM on DkNN is: {}\".format(adv_acc_knn))"
   ]
  },
  {
   "cell_type": "code",
   "execution_count": 138,
   "metadata": {},
   "outputs": [
    {
     "name": "stdout",
     "output_type": "stream",
     "text": [
      "<keras.layers.convolutional.Conv2D object at 0x7f44301fe198>\n",
      "<keras.layers.convolutional.Conv2D object at 0x7f44301fe6d8>\n",
      "<keras.layers.convolutional.Conv2D object at 0x7f442c6aea90>\n",
      "<keras.layers.core.Dense object at 0x7f442c6d4748>\n",
      "Constructing the LSH table\n",
      "Construction time: 292.4895556997508\n",
      "Constructing the LSH table\n",
      "Construction time: 60.992687018588185\n",
      "Constructing the LSH table\n",
      "Construction time: 3.278316618874669\n",
      "Constructing the LSH table\n",
      "Construction time: 1.340169696137309\n",
      "Construction time: 444.5197242721915\n"
     ]
    }
   ],
   "source": [
    "t13 = timeit.default_timer()\n",
    "\n",
    "#the_complete_cycle_TEST SET\n",
    "reshaped_output_layer_adv_jsma = reshaped_layer(model, adv_jsma)\n",
    "adv_close_l_p_jsma = keys(reshaped_output_layer, reshaped_output_layer_adv_jsma, 75, y_train)\n",
    "adv_closest_labels_found_jsma = changing_transpose(y_test, adv_close_l_p_jsma)\n",
    "t14 = timeit.default_timer()\n",
    "# print('Done')\n",
    "print('Construction time: {}'.format(t14 - t13))"
   ]
  },
  {
   "cell_type": "code",
   "execution_count": 54,
   "metadata": {},
   "outputs": [
    {
     "data": {
      "text/plain": [
       "0.5581621621621622"
      ]
     },
     "execution_count": 54,
     "metadata": {},
     "output_type": "execute_result"
    }
   ],
   "source": [
    "pd.DataFrame(adv_closest_labels_found_jsma).to_csv(\"adv_jsma_output_file_closest_labels.csv\")\n",
    "\n",
    "v_adv_jsma,k_adv_jsma,c_adv_jsma, counter_adv_jsma = metrics(adv_closest_labels_found_jsma, A, 75)\n",
    "p_acc_adv_jsma =  np.mean(np.equal(v_adv_jsma, y_labels))\n",
    "p_acc_adv_jsma"
   ]
  },
  {
   "cell_type": "code",
   "execution_count": 39,
   "metadata": {},
   "outputs": [],
   "source": [
    "import pickle\n",
    "\n",
    "# # obj0, obj1, obj2 are created here...\n",
    "\n",
    "# # Saving the objects:\n",
    "# with open('objs.pkl', 'w') as f:  # Python 3: open(..., 'wb')\n",
    "#     pickle.dump([obj0, obj1, obj2], f)\n",
    "\n",
    "# # Getting back the objects:\n",
    "# with open('objs.pkl') as f:  # Python 3: open(..., 'rb')\n",
    "#     obj0, obj1, obj2 = pickle.load(f)\n",
    "\n",
    "import pickle\n",
    "# Saving the objects:\n",
    "with open('file.pkl', 'wb') as f:  \n",
    "    # Python 3: open(..., 'wb')\n",
    "    pickle.dump([cali_closest_labels_found,closest_labels_found, adv_closest_labels_found, adv_closest_labels_found_stm], f)\n",
    " "
   ]
  },
  {
   "cell_type": "code",
   "execution_count": 41,
   "metadata": {},
   "outputs": [],
   "source": [
    "with open('A.pkl', 'wb') as f:  \n",
    "    # Python 3: open(..., 'wb')\n",
    "    pickle.dump([A], f)"
   ]
  }
 ],
 "metadata": {
  "colab": {
   "collapsed_sections": [],
   "name": "USE_THIS_testing_phase_DeepKNN_latest.ipynb",
   "provenance": [],
   "version": "0.3.2"
  },
  "kernelspec": {
   "display_name": "Python 3",
   "language": "python",
   "name": "python3"
  },
  "language_info": {
   "codemirror_mode": {
    "name": "ipython",
    "version": 3
   },
   "file_extension": ".py",
   "mimetype": "text/x-python",
   "name": "python",
   "nbconvert_exporter": "python",
   "pygments_lexer": "ipython3",
   "version": "3.6.8"
  }
 },
 "nbformat": 4,
 "nbformat_minor": 1
}
